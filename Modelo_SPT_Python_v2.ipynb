{
 "cells": [
  {
   "cell_type": "code",
   "execution_count": 1,
   "metadata": {},
   "outputs": [
    {
     "name": "stderr",
     "output_type": "stream",
     "text": [
      "C:\\Users\\FREDDY\\Anaconda3\\lib\\site-packages\\IPython\\core\\interactiveshell.py:3058: DtypeWarning: Columns (85,87,88) have mixed types. Specify dtype option on import or set low_memory=False.\n",
      "  interactivity=interactivity, compiler=compiler, result=result)\n"
     ]
    },
    {
     "data": {
      "text/html": [
       "<div>\n",
       "<style scoped>\n",
       "    .dataframe tbody tr th:only-of-type {\n",
       "        vertical-align: middle;\n",
       "    }\n",
       "\n",
       "    .dataframe tbody tr th {\n",
       "        vertical-align: top;\n",
       "    }\n",
       "\n",
       "    .dataframe thead th {\n",
       "        text-align: right;\n",
       "    }\n",
       "</style>\n",
       "<table border=\"1\" class=\"dataframe\">\n",
       "  <thead>\n",
       "    <tr style=\"text-align: right;\">\n",
       "      <th></th>\n",
       "      <th>MES_ID</th>\n",
       "      <th>CLIENTE_ID</th>\n",
       "      <th>FLG_EVENTO_SPT</th>\n",
       "      <th>FLG_EVENTO_SRE</th>\n",
       "      <th>FLGCLIENTENEGATIVO</th>\n",
       "      <th>IMP_INGRESOEST</th>\n",
       "      <th>STR_MACROZONALIMA</th>\n",
       "      <th>STR_PROVINCIA</th>\n",
       "      <th>NUM_EDAD</th>\n",
       "      <th>IMP_RENTABILIDAD_MED</th>\n",
       "      <th>...</th>\n",
       "      <th>GRP_SERV_HIGIENICOS_MAX</th>\n",
       "      <th>GRP_ENERGIA_MAX</th>\n",
       "      <th>IND_DENSI_BANC_DECIL</th>\n",
       "      <th>IND_PAXS_CTS</th>\n",
       "      <th>IND_PAUP_DAP</th>\n",
       "      <th>IND_PAFG_TC</th>\n",
       "      <th>IND_PAXS_EP</th>\n",
       "      <th>COD_ACTECONOMICA</th>\n",
       "      <th>COD_DEPARTAMENTO</th>\n",
       "      <th>COD_PROFESION</th>\n",
       "    </tr>\n",
       "  </thead>\n",
       "  <tbody>\n",
       "    <tr>\n",
       "      <td>0</td>\n",
       "      <td>201608</td>\n",
       "      <td>1661</td>\n",
       "      <td>1</td>\n",
       "      <td>0</td>\n",
       "      <td>N</td>\n",
       "      <td>4778.94</td>\n",
       "      <td>LC</td>\n",
       "      <td>M7</td>\n",
       "      <td>43</td>\n",
       "      <td>24.056667</td>\n",
       "      <td>...</td>\n",
       "      <td>red</td>\n",
       "      <td>energia_2</td>\n",
       "      <td>1</td>\n",
       "      <td>1</td>\n",
       "      <td>0</td>\n",
       "      <td>0</td>\n",
       "      <td>0</td>\n",
       "      <td>99</td>\n",
       "      <td>30</td>\n",
       "      <td>900</td>\n",
       "    </tr>\n",
       "    <tr>\n",
       "      <td>1</td>\n",
       "      <td>201608</td>\n",
       "      <td>2194</td>\n",
       "      <td>0</td>\n",
       "      <td>0</td>\n",
       "      <td>N</td>\n",
       "      <td>7868.34</td>\n",
       "      <td>LN</td>\n",
       "      <td>M7</td>\n",
       "      <td>47</td>\n",
       "      <td>415.228333</td>\n",
       "      <td>...</td>\n",
       "      <td>red</td>\n",
       "      <td>energia_2</td>\n",
       "      <td>0</td>\n",
       "      <td>0</td>\n",
       "      <td>0</td>\n",
       "      <td>0</td>\n",
       "      <td>0</td>\n",
       "      <td>7511</td>\n",
       "      <td>30</td>\n",
       "      <td>100</td>\n",
       "    </tr>\n",
       "    <tr>\n",
       "      <td>2</td>\n",
       "      <td>201608</td>\n",
       "      <td>2434</td>\n",
       "      <td>0</td>\n",
       "      <td>0</td>\n",
       "      <td>N</td>\n",
       "      <td>12543.64</td>\n",
       "      <td>.</td>\n",
       "      <td>D3</td>\n",
       "      <td>56</td>\n",
       "      <td>588.841667</td>\n",
       "      <td>...</td>\n",
       "      <td>red</td>\n",
       "      <td>energia_2</td>\n",
       "      <td>0</td>\n",
       "      <td>1</td>\n",
       "      <td>0</td>\n",
       "      <td>0</td>\n",
       "      <td>0</td>\n",
       "      <td>91</td>\n",
       "      <td>8</td>\n",
       "      <td>0</td>\n",
       "    </tr>\n",
       "    <tr>\n",
       "      <td>3</td>\n",
       "      <td>201608</td>\n",
       "      <td>2473</td>\n",
       "      <td>0</td>\n",
       "      <td>0</td>\n",
       "      <td>N</td>\n",
       "      <td>2188.42</td>\n",
       "      <td>.</td>\n",
       "      <td>F3</td>\n",
       "      <td>37</td>\n",
       "      <td>474.696667</td>\n",
       "      <td>...</td>\n",
       "      <td>red</td>\n",
       "      <td>energia_2</td>\n",
       "      <td>0</td>\n",
       "      <td>1</td>\n",
       "      <td>0</td>\n",
       "      <td>0</td>\n",
       "      <td>1</td>\n",
       "      <td>4520</td>\n",
       "      <td>12</td>\n",
       "      <td>900</td>\n",
       "    </tr>\n",
       "    <tr>\n",
       "      <td>4</td>\n",
       "      <td>201608</td>\n",
       "      <td>3754</td>\n",
       "      <td>0</td>\n",
       "      <td>0</td>\n",
       "      <td>N</td>\n",
       "      <td>1243.65</td>\n",
       "      <td>LM</td>\n",
       "      <td>M7</td>\n",
       "      <td>69</td>\n",
       "      <td>47.646667</td>\n",
       "      <td>...</td>\n",
       "      <td>red</td>\n",
       "      <td>energia_2</td>\n",
       "      <td>0</td>\n",
       "      <td>1</td>\n",
       "      <td>0</td>\n",
       "      <td>1</td>\n",
       "      <td>1</td>\n",
       "      <td>4530</td>\n",
       "      <td>30</td>\n",
       "      <td>412</td>\n",
       "    </tr>\n",
       "  </tbody>\n",
       "</table>\n",
       "<p>5 rows × 97 columns</p>\n",
       "</div>"
      ],
      "text/plain": [
       "   MES_ID  CLIENTE_ID  FLG_EVENTO_SPT  FLG_EVENTO_SRE FLGCLIENTENEGATIVO  \\\n",
       "0  201608        1661               1               0                  N   \n",
       "1  201608        2194               0               0                  N   \n",
       "2  201608        2434               0               0                  N   \n",
       "3  201608        2473               0               0                  N   \n",
       "4  201608        3754               0               0                  N   \n",
       "\n",
       "   IMP_INGRESOEST STR_MACROZONALIMA STR_PROVINCIA  NUM_EDAD  \\\n",
       "0         4778.94                LC            M7        43   \n",
       "1         7868.34                LN            M7        47   \n",
       "2        12543.64                 .            D3        56   \n",
       "3         2188.42                 .            F3        37   \n",
       "4         1243.65                LM            M7        69   \n",
       "\n",
       "   IMP_RENTABILIDAD_MED  ...  GRP_SERV_HIGIENICOS_MAX  GRP_ENERGIA_MAX  \\\n",
       "0             24.056667  ...                      red        energia_2   \n",
       "1            415.228333  ...                      red        energia_2   \n",
       "2            588.841667  ...                      red        energia_2   \n",
       "3            474.696667  ...                      red        energia_2   \n",
       "4             47.646667  ...                      red        energia_2   \n",
       "\n",
       "   IND_DENSI_BANC_DECIL  IND_PAXS_CTS  IND_PAUP_DAP  IND_PAFG_TC  IND_PAXS_EP  \\\n",
       "0                     1             1             0            0            0   \n",
       "1                     0             0             0            0            0   \n",
       "2                     0             1             0            0            0   \n",
       "3                     0             1             0            0            1   \n",
       "4                     0             1             0            1            1   \n",
       "\n",
       "   COD_ACTECONOMICA  COD_DEPARTAMENTO  COD_PROFESION  \n",
       "0                99                30            900  \n",
       "1              7511                30            100  \n",
       "2                91                 8              0  \n",
       "3              4520                12            900  \n",
       "4              4530                30            412  \n",
       "\n",
       "[5 rows x 97 columns]"
      ]
     },
     "execution_count": 1,
     "metadata": {},
     "output_type": "execute_result"
    }
   ],
   "source": [
    "#Se llaman a las librerías\n",
    "import pandas as pd\n",
    "import numpy as np\n",
    "import matplotlib as plt\n",
    "\n",
    "#def __iter__(self): return 0\n",
    "\n",
    "# @hidden_cell\n",
    "# The following code accesses a file in your IBM Cloud Object Storage. It includes your credentials.\n",
    "# You might want to remove those credentials before you share the notebook.\n",
    "#client_f68196969c7242d0b79d06af57c8e349 = ibm_boto3.client(service_name='s3',\n",
    " #   ibm_api_key_id='3UDpojPHU4zPeok_oiS11zaupnkGIF5Zy5IopIP8gwTQ',\n",
    " #  ibm_auth_endpoint=\"https://iam.ng.bluemix.net/oidc/token\",\n",
    " #   config=Config(signature_version='oauth'),\n",
    " #   endpoint_url='https://s3-api.us-geo.objectstorage.service.networklayer.com')\n",
    "\n",
    "#body = client_f68196969c7242d0b79d06af57c8e349.get_object(Bucket='proyectoutec051019-donotdelete-pr-pabaanjygdnerg',Key='utec_muestra (1).csv')['Body']\n",
    "# add missing __iter__ method, so pandas accepts body as file-like object\n",
    "#if not hasattr(body, \"__iter__\"): body.__iter__ = types.MethodType( __iter__, body )\n",
    "\n",
    "data_train = pd.read_csv(\"utec_muestra.csv\")\n",
    "data_train.head()\n"
   ]
  },
  {
   "cell_type": "code",
   "execution_count": 2,
   "metadata": {},
   "outputs": [
    {
     "name": "stdout",
     "output_type": "stream",
     "text": [
      "(208473, 97)\n",
      "0.07287754289524304\n",
      "0.004624100003357749\n",
      "La tasa actual para SPT es de 7.29% y para SRE es de 0.46%\n"
     ]
    }
   ],
   "source": [
    "#Obtener número de registros y columnas\n",
    "print(data_train.shape)\n",
    "\n",
    "#Tasa a predecir para SPT\n",
    "print(data_train.FLG_EVENTO_SPT.sum()/data_train.shape[0])\n",
    "\n",
    "#Tasa a predecir para SRE\n",
    "print(data_train.FLG_EVENTO_SRE.sum()/data_train.shape[0])\n",
    "\n",
    "print(\"La tasa actual para SPT es de 7.29% y para SRE es de 0.46%\")"
   ]
  },
  {
   "cell_type": "code",
   "execution_count": 3,
   "metadata": {},
   "outputs": [
    {
     "data": {
      "text/html": [
       "<div>\n",
       "<style scoped>\n",
       "    .dataframe tbody tr th:only-of-type {\n",
       "        vertical-align: middle;\n",
       "    }\n",
       "\n",
       "    .dataframe tbody tr th {\n",
       "        vertical-align: top;\n",
       "    }\n",
       "\n",
       "    .dataframe thead th {\n",
       "        text-align: right;\n",
       "    }\n",
       "</style>\n",
       "<table border=\"1\" class=\"dataframe\">\n",
       "  <thead>\n",
       "    <tr style=\"text-align: right;\">\n",
       "      <th></th>\n",
       "      <th>MES_ID</th>\n",
       "      <th>CLIENTE_ID</th>\n",
       "      <th>FLG_EVENTO_SPT</th>\n",
       "      <th>FLG_EVENTO_SRE</th>\n",
       "      <th>FLGCLIENTENEGATIVO</th>\n",
       "      <th>IMP_INGRESOEST</th>\n",
       "      <th>STR_MACROZONALIMA</th>\n",
       "      <th>STR_PROVINCIA</th>\n",
       "      <th>NUM_EDAD</th>\n",
       "      <th>IMP_RENTABILIDAD_MED</th>\n",
       "      <th>...</th>\n",
       "      <th>GRP_SERV_HIGIENICOS_MAX</th>\n",
       "      <th>GRP_ENERGIA_MAX</th>\n",
       "      <th>IND_DENSI_BANC_DECIL</th>\n",
       "      <th>IND_PAXS_CTS</th>\n",
       "      <th>IND_PAUP_DAP</th>\n",
       "      <th>IND_PAFG_TC</th>\n",
       "      <th>IND_PAXS_EP</th>\n",
       "      <th>COD_ACTECONOMICA</th>\n",
       "      <th>COD_DEPARTAMENTO</th>\n",
       "      <th>COD_PROFESION</th>\n",
       "    </tr>\n",
       "  </thead>\n",
       "  <tbody>\n",
       "    <tr>\n",
       "      <td>0</td>\n",
       "      <td>201608</td>\n",
       "      <td>1661</td>\n",
       "      <td>1</td>\n",
       "      <td>0</td>\n",
       "      <td>N</td>\n",
       "      <td>4778.94</td>\n",
       "      <td>LC</td>\n",
       "      <td>M7</td>\n",
       "      <td>43</td>\n",
       "      <td>24.056667</td>\n",
       "      <td>...</td>\n",
       "      <td>red</td>\n",
       "      <td>energia_2</td>\n",
       "      <td>1</td>\n",
       "      <td>1</td>\n",
       "      <td>0</td>\n",
       "      <td>0</td>\n",
       "      <td>0</td>\n",
       "      <td>99</td>\n",
       "      <td>30</td>\n",
       "      <td>900</td>\n",
       "    </tr>\n",
       "    <tr>\n",
       "      <td>1</td>\n",
       "      <td>201608</td>\n",
       "      <td>2194</td>\n",
       "      <td>0</td>\n",
       "      <td>0</td>\n",
       "      <td>N</td>\n",
       "      <td>7868.34</td>\n",
       "      <td>LN</td>\n",
       "      <td>M7</td>\n",
       "      <td>47</td>\n",
       "      <td>415.228333</td>\n",
       "      <td>...</td>\n",
       "      <td>red</td>\n",
       "      <td>energia_2</td>\n",
       "      <td>0</td>\n",
       "      <td>0</td>\n",
       "      <td>0</td>\n",
       "      <td>0</td>\n",
       "      <td>0</td>\n",
       "      <td>7511</td>\n",
       "      <td>30</td>\n",
       "      <td>100</td>\n",
       "    </tr>\n",
       "    <tr>\n",
       "      <td>2</td>\n",
       "      <td>201608</td>\n",
       "      <td>2434</td>\n",
       "      <td>0</td>\n",
       "      <td>0</td>\n",
       "      <td>N</td>\n",
       "      <td>12543.64</td>\n",
       "      <td>.</td>\n",
       "      <td>D3</td>\n",
       "      <td>56</td>\n",
       "      <td>588.841667</td>\n",
       "      <td>...</td>\n",
       "      <td>red</td>\n",
       "      <td>energia_2</td>\n",
       "      <td>0</td>\n",
       "      <td>1</td>\n",
       "      <td>0</td>\n",
       "      <td>0</td>\n",
       "      <td>0</td>\n",
       "      <td>91</td>\n",
       "      <td>8</td>\n",
       "      <td>0</td>\n",
       "    </tr>\n",
       "    <tr>\n",
       "      <td>3</td>\n",
       "      <td>201608</td>\n",
       "      <td>2473</td>\n",
       "      <td>0</td>\n",
       "      <td>0</td>\n",
       "      <td>N</td>\n",
       "      <td>2188.42</td>\n",
       "      <td>.</td>\n",
       "      <td>F3</td>\n",
       "      <td>37</td>\n",
       "      <td>474.696667</td>\n",
       "      <td>...</td>\n",
       "      <td>red</td>\n",
       "      <td>energia_2</td>\n",
       "      <td>0</td>\n",
       "      <td>1</td>\n",
       "      <td>0</td>\n",
       "      <td>0</td>\n",
       "      <td>1</td>\n",
       "      <td>4520</td>\n",
       "      <td>12</td>\n",
       "      <td>900</td>\n",
       "    </tr>\n",
       "    <tr>\n",
       "      <td>4</td>\n",
       "      <td>201608</td>\n",
       "      <td>3754</td>\n",
       "      <td>0</td>\n",
       "      <td>0</td>\n",
       "      <td>N</td>\n",
       "      <td>1243.65</td>\n",
       "      <td>LM</td>\n",
       "      <td>M7</td>\n",
       "      <td>69</td>\n",
       "      <td>47.646667</td>\n",
       "      <td>...</td>\n",
       "      <td>red</td>\n",
       "      <td>energia_2</td>\n",
       "      <td>0</td>\n",
       "      <td>1</td>\n",
       "      <td>0</td>\n",
       "      <td>1</td>\n",
       "      <td>1</td>\n",
       "      <td>4530</td>\n",
       "      <td>30</td>\n",
       "      <td>412</td>\n",
       "    </tr>\n",
       "  </tbody>\n",
       "</table>\n",
       "<p>5 rows × 97 columns</p>\n",
       "</div>"
      ],
      "text/plain": [
       "   MES_ID  CLIENTE_ID  FLG_EVENTO_SPT  FLG_EVENTO_SRE FLGCLIENTENEGATIVO  \\\n",
       "0  201608        1661               1               0                  N   \n",
       "1  201608        2194               0               0                  N   \n",
       "2  201608        2434               0               0                  N   \n",
       "3  201608        2473               0               0                  N   \n",
       "4  201608        3754               0               0                  N   \n",
       "\n",
       "   IMP_INGRESOEST STR_MACROZONALIMA STR_PROVINCIA  NUM_EDAD  \\\n",
       "0         4778.94                LC            M7        43   \n",
       "1         7868.34                LN            M7        47   \n",
       "2        12543.64                 .            D3        56   \n",
       "3         2188.42                 .            F3        37   \n",
       "4         1243.65                LM            M7        69   \n",
       "\n",
       "   IMP_RENTABILIDAD_MED  ...  GRP_SERV_HIGIENICOS_MAX  GRP_ENERGIA_MAX  \\\n",
       "0             24.056667  ...                      red        energia_2   \n",
       "1            415.228333  ...                      red        energia_2   \n",
       "2            588.841667  ...                      red        energia_2   \n",
       "3            474.696667  ...                      red        energia_2   \n",
       "4             47.646667  ...                      red        energia_2   \n",
       "\n",
       "   IND_DENSI_BANC_DECIL  IND_PAXS_CTS  IND_PAUP_DAP  IND_PAFG_TC  IND_PAXS_EP  \\\n",
       "0                     1             1             0            0            0   \n",
       "1                     0             0             0            0            0   \n",
       "2                     0             1             0            0            0   \n",
       "3                     0             1             0            0            1   \n",
       "4                     0             1             0            1            1   \n",
       "\n",
       "   COD_ACTECONOMICA  COD_DEPARTAMENTO  COD_PROFESION  \n",
       "0                99                30            900  \n",
       "1              7511                30            100  \n",
       "2                91                 8              0  \n",
       "3              4520                12            900  \n",
       "4              4530                30            412  \n",
       "\n",
       "[5 rows x 97 columns]"
      ]
     },
     "execution_count": 3,
     "metadata": {},
     "output_type": "execute_result"
    }
   ],
   "source": [
    "data_train.head()"
   ]
  },
  {
   "cell_type": "code",
   "execution_count": 4,
   "metadata": {},
   "outputs": [
    {
     "name": "stdout",
     "output_type": "stream",
     "text": [
      "Index(['MES_ID', 'CLIENTE_ID', 'FLG_EVENTO_SPT', 'FLG_EVENTO_SRE',\n",
      "       'FLGCLIENTENEGATIVO', 'IMP_INGRESOEST', 'STR_MACROZONALIMA',\n",
      "       'STR_PROVINCIA', 'NUM_EDAD', 'IMP_RENTABILIDAD_MED',\n",
      "       'IMP_OPEHAB_CVIS_MED', 'NUM_OPEHAB_CVIS_MED', 'NUM_OPEDEB_CVIS_MED',\n",
      "       'IMP_MED_CAH_MED', 'IMP_MED_CVIS_TEND', 'IND_CANCREC_CCT',\n",
      "       'NUM_MES_APEANT_CSU_LN', 'NUM_MES_CANCREC_CVIS_LN',\n",
      "       'IMP_INTANG_SOL_CTS', 'IMP_CTS', 'NUM_MES_APEANT_CTS_LN',\n",
      "       'NUM_MES_CIEREC_CTS_LN', 'IMP_INTANG_SOL_CTS_MED_EVOL',\n",
      "       'PCT_IMP_TANG_CTS_MED', 'IMP_NORED_SOL_DAP_MED_EVOL',\n",
      "       'IMP_NORED_DOL_DAP_TEND', 'IMP_DEUDA_PPE_TEND', 'NUM_MES_APEANT_PPE_LN',\n",
      "       'IMP_DEUDAINI_HIP_MED', 'IND_HIP', 'IMP_OPE_BT_MED_EVOL',\n",
      "       'PCT_IMP_OTR_BT_MED', 'IMP_OPE_SOL_EP_MED', 'PCT_OPE_SOL_EP_MED',\n",
      "       'IMP_PASIVO_ACTUAL', 'IMP_DEUDA_TC', 'IMP_AMORT_TC', 'NUM_TC',\n",
      "       'NUM_MESES_APER_TC', 'IMP_OPE_TC_MED', 'IMP_DISPONIBLE_TC_MED',\n",
      "       'IMP_DISPONIBLE_TC_MED_EVOL', 'IMP_LIMITE_TC_MED_EVOL', 'IMP_OPE_TD',\n",
      "       'NUM_OPE_TD_MED_EVOL', 'NUM_MESES_OPERA_TD', 'PCT_IMP_OPE_POS_TD_MED',\n",
      "       'NUM_MESES_OPERA_TRA', 'IMP_OPE_IN_TNS_MED', 'IMP_OPE_OUT_TNS_MED',\n",
      "       'IMP_OPE_OUT_TNS_MED2', 'IMP_OPE_OUT_TNS_MED_EVOL',\n",
      "       'RAT_IMP_OPE_IN_TNS_MED', 'IMP_OPE_MP', 'NUM_OPE_MP',\n",
      "       'IMP_CUOTA_SEG_MED_EVOL', 'NUM_MES_ULT_PRESTAMO', 'IMP_RCC_VIGENTE_MED',\n",
      "       'IMP_RCC_VIGENTE_MED_EVOL', 'IMP_RCC_TC', 'PCT_RCC_DOL_MED',\n",
      "       'PCT_RCC_CAJ_MED', 'RAT_RCC_4A_CONSUMO_VS_TOTAL', 'IMP_OPE_GRUPO1_MED',\n",
      "       'IMP_OPE_GRUPO3_MED', 'IMP_OPE_GRUPO5_MED', 'PCT_USO_CANAL_ATM',\n",
      "       'PCT_USO_CANAL_VENT', 'NUM_RECLAMOS_6M_SEG_OTROS', 'IND_RECLAMOS',\n",
      "       'RAT_fmudap_Med', 'RAT_fmudap_Med2', 'RAT_activo_total_Med2',\n",
      "       'IMP_INGREG_02', 'IND_INGREG', 'IMP_UTILITIES_LUZ_MED',\n",
      "       'IMP_LIFES_EDUC_MED', 'NUM_CAMP_EXITO', 'NUM_CAMP_EXITO_INC_AMPLIACION',\n",
      "       'NUM_CAMP_SOLI_INC_COMPDEUDA', 'IND_CAMP_SOLI_PROD_CH',\n",
      "       'IND_CAMP_SOLI_PROD_SEGUROS', 'NUM_REVOLVING_6M', 'IMP_REVOLVING_MED',\n",
      "       'IMP_RENTAS_INF_MED', 'GRP_TIPO_VIVIENDA_MAX', 'PCT_ALQUILER',\n",
      "       'GRP_SERV_HIGIENICOS_MAX', 'GRP_ENERGIA_MAX', 'IND_DENSI_BANC_DECIL',\n",
      "       'IND_PAXS_CTS', 'IND_PAUP_DAP', 'IND_PAFG_TC', 'IND_PAXS_EP',\n",
      "       'COD_ACTECONOMICA', 'COD_DEPARTAMENTO', 'COD_PROFESION'],\n",
      "      dtype='object')\n"
     ]
    }
   ],
   "source": [
    "#Llamo a las librerías\n",
    "import pandas as pd\n",
    "import numpy as np\n",
    "import matplotlib\n",
    "\n",
    "#Imprimo las columnas\n",
    "print(data_train.columns)"
   ]
  },
  {
   "cell_type": "code",
   "execution_count": 5,
   "metadata": {},
   "outputs": [
    {
     "data": {
      "text/plain": [
       "FLG_EVENTO_SPT\n",
       "0    193280\n",
       "1     15193\n",
       "Name: FLG_EVENTO_SPT, dtype: int64"
      ]
     },
     "execution_count": 5,
     "metadata": {},
     "output_type": "execute_result"
    }
   ],
   "source": [
    "data_train.groupby('FLG_EVENTO_SPT').FLG_EVENTO_SPT.count()"
   ]
  },
  {
   "cell_type": "code",
   "execution_count": 8,
   "metadata": {},
   "outputs": [],
   "source": [
    "#Seleccionando las columnas a eliminar, son columnas univalor o ID, además de STR_PROVINCIA porque dos provincias representan el 65% del universo\n",
    "cols_borrar= ['STR_PROVINCIA','CLIENTE_ID','FLGCLIENTENEGATIVO', 'IMP_NORED_SOL_DAP_MED_EVOL',  'IMP_NORED_DOL_DAP_TEND', 'NUM_MES_ULT_PRESTAMO','NUM_RECLAMOS_6M_SEG_OTROS','IND_RECLAMOS','IMP_UTILITIES_LUZ_MED','IMP_LIFES_EDUC_MED','IND_CAMP_SOLI_PROD_SEGUROS']"
   ]
  },
  {
   "cell_type": "code",
   "execution_count": 9,
   "metadata": {},
   "outputs": [],
   "source": [
    "#Eliminando las columnas elegidas\n",
    "data_train = data_train.drop(cols_borrar,1)"
   ]
  },
  {
   "cell_type": "code",
   "execution_count": 10,
   "metadata": {},
   "outputs": [
    {
     "name": "stdout",
     "output_type": "stream",
     "text": [
      "(208473, 86)\n"
     ]
    }
   ],
   "source": [
    "print(data_train.shape)"
   ]
  },
  {
   "cell_type": "code",
   "execution_count": 11,
   "metadata": {},
   "outputs": [
    {
     "data": {
      "text/plain": [
       "FLG_EVENTO_SPT\n",
       "0    193280\n",
       "1     15193\n",
       "Name: FLG_EVENTO_SPT, dtype: int64"
      ]
     },
     "execution_count": 11,
     "metadata": {},
     "output_type": "execute_result"
    }
   ],
   "source": [
    "#92% de 0 y 8% de 1 -- el dataset está desbalanceado\n",
    "data_train.groupby('FLG_EVENTO_SPT').FLG_EVENTO_SPT.count()"
   ]
  },
  {
   "cell_type": "code",
   "execution_count": null,
   "metadata": {},
   "outputs": [],
   "source": []
  },
  {
   "cell_type": "code",
   "execution_count": 12,
   "metadata": {},
   "outputs": [],
   "source": [
    "#Imputar los datos\n",
    "\n",
    "import pandas as pd\n",
    "import numpy as np\n",
    "\n",
    "#1- variable: GRP_ENERGIA_MAX --> El valor energia_2 es el de mayor frecuencia por lo que se colocará ese\n",
    "#2- variable: GRP_SERV_HIGIENICOS_MAX\n",
    "#3- variable: GRP_TIPO_VIVIENDA_MAX\n",
    "\n",
    "#Base TRAIN\n",
    "data_train['GRP_ENERGIA_MAX'].fillna('energia_2', inplace=True)\n",
    "data_train['GRP_SERV_HIGIENICOS_MAX'].fillna('red', inplace=True)\n",
    "data_train['GRP_TIPO_VIVIENDA_MAX'].fillna('tipoviv_01', inplace=True)"
   ]
  },
  {
   "cell_type": "code",
   "execution_count": 13,
   "metadata": {},
   "outputs": [],
   "source": [
    "import pandas as pd\n",
    "import numpy as np"
   ]
  },
  {
   "cell_type": "code",
   "execution_count": 14,
   "metadata": {},
   "outputs": [],
   "source": [
    "#TRAIN\n",
    "data_train['STR_MACROZONALIMA'] = data_train['STR_MACROZONALIMA'].map({'.': 'MACROZONA_NA', 'CA': 'MACROZONA_CA', 'LC':'MACROZONA_LC','LE':'MACROZONA_LE', 'LM':'MACROZONA_LM', 'LN':'MACROZONA_LN', 'LS':'MACROZONA_LS'})"
   ]
  },
  {
   "cell_type": "code",
   "execution_count": 15,
   "metadata": {},
   "outputs": [],
   "source": [
    "#TRAIN\n",
    "data_train['GRP_SERV_HIGIENICOS_MAX'] = data_train['GRP_SERV_HIGIENICOS_MAX'].map({'no_tiene': 'SSHH_NOTIENE', 'pozo': 'SSHH_POZO', 'red':'SSHH_RED'})"
   ]
  },
  {
   "cell_type": "code",
   "execution_count": 16,
   "metadata": {},
   "outputs": [
    {
     "data": {
      "text/html": [
       "<div>\n",
       "<style scoped>\n",
       "    .dataframe tbody tr th:only-of-type {\n",
       "        vertical-align: middle;\n",
       "    }\n",
       "\n",
       "    .dataframe tbody tr th {\n",
       "        vertical-align: top;\n",
       "    }\n",
       "\n",
       "    .dataframe thead th {\n",
       "        text-align: right;\n",
       "    }\n",
       "</style>\n",
       "<table border=\"1\" class=\"dataframe\">\n",
       "  <thead>\n",
       "    <tr style=\"text-align: right;\">\n",
       "      <th></th>\n",
       "      <th>MES_ID</th>\n",
       "      <th>FLG_EVENTO_SPT</th>\n",
       "      <th>FLG_EVENTO_SRE</th>\n",
       "      <th>IMP_INGRESOEST</th>\n",
       "      <th>STR_MACROZONALIMA</th>\n",
       "      <th>NUM_EDAD</th>\n",
       "      <th>IMP_RENTABILIDAD_MED</th>\n",
       "      <th>IMP_OPEHAB_CVIS_MED</th>\n",
       "      <th>NUM_OPEHAB_CVIS_MED</th>\n",
       "      <th>NUM_OPEDEB_CVIS_MED</th>\n",
       "      <th>...</th>\n",
       "      <th>energia_5</th>\n",
       "      <th>energia_8</th>\n",
       "      <th>tipoviv_01</th>\n",
       "      <th>tipoviv_02</th>\n",
       "      <th>tipoviv_03</th>\n",
       "      <th>tipoviv_04</th>\n",
       "      <th>tipoviv_06</th>\n",
       "      <th>tipoviv_07</th>\n",
       "      <th>tipoviv_08</th>\n",
       "      <th>tipoviv_09</th>\n",
       "    </tr>\n",
       "  </thead>\n",
       "  <tbody>\n",
       "    <tr>\n",
       "      <td>0</td>\n",
       "      <td>201608</td>\n",
       "      <td>1</td>\n",
       "      <td>0</td>\n",
       "      <td>4778.94</td>\n",
       "      <td>MACROZONA_LC</td>\n",
       "      <td>43</td>\n",
       "      <td>24.056667</td>\n",
       "      <td>15494.808330</td>\n",
       "      <td>3.333333</td>\n",
       "      <td>11.833333</td>\n",
       "      <td>...</td>\n",
       "      <td>0</td>\n",
       "      <td>0</td>\n",
       "      <td>1</td>\n",
       "      <td>0</td>\n",
       "      <td>0</td>\n",
       "      <td>0</td>\n",
       "      <td>0</td>\n",
       "      <td>0</td>\n",
       "      <td>0</td>\n",
       "      <td>0</td>\n",
       "    </tr>\n",
       "    <tr>\n",
       "      <td>1</td>\n",
       "      <td>201608</td>\n",
       "      <td>0</td>\n",
       "      <td>0</td>\n",
       "      <td>7868.34</td>\n",
       "      <td>MACROZONA_LN</td>\n",
       "      <td>47</td>\n",
       "      <td>415.228333</td>\n",
       "      <td>12641.183330</td>\n",
       "      <td>3.000000</td>\n",
       "      <td>16.666667</td>\n",
       "      <td>...</td>\n",
       "      <td>0</td>\n",
       "      <td>0</td>\n",
       "      <td>1</td>\n",
       "      <td>0</td>\n",
       "      <td>0</td>\n",
       "      <td>0</td>\n",
       "      <td>0</td>\n",
       "      <td>0</td>\n",
       "      <td>0</td>\n",
       "      <td>0</td>\n",
       "    </tr>\n",
       "    <tr>\n",
       "      <td>2</td>\n",
       "      <td>201608</td>\n",
       "      <td>0</td>\n",
       "      <td>0</td>\n",
       "      <td>12543.64</td>\n",
       "      <td>MACROZONA_NA</td>\n",
       "      <td>56</td>\n",
       "      <td>588.841667</td>\n",
       "      <td>10200.220000</td>\n",
       "      <td>2.166667</td>\n",
       "      <td>6.166667</td>\n",
       "      <td>...</td>\n",
       "      <td>0</td>\n",
       "      <td>0</td>\n",
       "      <td>1</td>\n",
       "      <td>0</td>\n",
       "      <td>0</td>\n",
       "      <td>0</td>\n",
       "      <td>0</td>\n",
       "      <td>0</td>\n",
       "      <td>0</td>\n",
       "      <td>0</td>\n",
       "    </tr>\n",
       "    <tr>\n",
       "      <td>3</td>\n",
       "      <td>201608</td>\n",
       "      <td>0</td>\n",
       "      <td>0</td>\n",
       "      <td>2188.42</td>\n",
       "      <td>MACROZONA_NA</td>\n",
       "      <td>37</td>\n",
       "      <td>474.696667</td>\n",
       "      <td>2811.370000</td>\n",
       "      <td>2.500000</td>\n",
       "      <td>12.000000</td>\n",
       "      <td>...</td>\n",
       "      <td>0</td>\n",
       "      <td>0</td>\n",
       "      <td>1</td>\n",
       "      <td>0</td>\n",
       "      <td>0</td>\n",
       "      <td>0</td>\n",
       "      <td>0</td>\n",
       "      <td>0</td>\n",
       "      <td>0</td>\n",
       "      <td>0</td>\n",
       "    </tr>\n",
       "    <tr>\n",
       "      <td>4</td>\n",
       "      <td>201608</td>\n",
       "      <td>0</td>\n",
       "      <td>0</td>\n",
       "      <td>1243.65</td>\n",
       "      <td>MACROZONA_LM</td>\n",
       "      <td>69</td>\n",
       "      <td>47.646667</td>\n",
       "      <td>710.921667</td>\n",
       "      <td>1.833333</td>\n",
       "      <td>4.000000</td>\n",
       "      <td>...</td>\n",
       "      <td>0</td>\n",
       "      <td>0</td>\n",
       "      <td>0</td>\n",
       "      <td>1</td>\n",
       "      <td>0</td>\n",
       "      <td>0</td>\n",
       "      <td>0</td>\n",
       "      <td>0</td>\n",
       "      <td>0</td>\n",
       "      <td>0</td>\n",
       "    </tr>\n",
       "  </tbody>\n",
       "</table>\n",
       "<p>5 rows × 110 columns</p>\n",
       "</div>"
      ],
      "text/plain": [
       "   MES_ID  FLG_EVENTO_SPT  FLG_EVENTO_SRE  IMP_INGRESOEST STR_MACROZONALIMA  \\\n",
       "0  201608               1               0         4778.94      MACROZONA_LC   \n",
       "1  201608               0               0         7868.34      MACROZONA_LN   \n",
       "2  201608               0               0        12543.64      MACROZONA_NA   \n",
       "3  201608               0               0         2188.42      MACROZONA_NA   \n",
       "4  201608               0               0         1243.65      MACROZONA_LM   \n",
       "\n",
       "   NUM_EDAD  IMP_RENTABILIDAD_MED  IMP_OPEHAB_CVIS_MED  NUM_OPEHAB_CVIS_MED  \\\n",
       "0        43             24.056667         15494.808330             3.333333   \n",
       "1        47            415.228333         12641.183330             3.000000   \n",
       "2        56            588.841667         10200.220000             2.166667   \n",
       "3        37            474.696667          2811.370000             2.500000   \n",
       "4        69             47.646667           710.921667             1.833333   \n",
       "\n",
       "   NUM_OPEDEB_CVIS_MED  ...  energia_5  energia_8  tipoviv_01  tipoviv_02  \\\n",
       "0            11.833333  ...          0          0           1           0   \n",
       "1            16.666667  ...          0          0           1           0   \n",
       "2             6.166667  ...          0          0           1           0   \n",
       "3            12.000000  ...          0          0           1           0   \n",
       "4             4.000000  ...          0          0           0           1   \n",
       "\n",
       "   tipoviv_03  tipoviv_04  tipoviv_06  tipoviv_07  tipoviv_08  tipoviv_09  \n",
       "0           0           0           0           0           0           0  \n",
       "1           0           0           0           0           0           0  \n",
       "2           0           0           0           0           0           0  \n",
       "3           0           0           0           0           0           0  \n",
       "4           0           0           0           0           0           0  \n",
       "\n",
       "[5 rows x 110 columns]"
      ]
     },
     "execution_count": 16,
     "metadata": {},
     "output_type": "execute_result"
    }
   ],
   "source": [
    "#Transformaremos en columnas las variables de GRP_SERV_HIGIENICOS_MAX y STR_MACROZONALIMA\n",
    "import pandas as pd\n",
    "data_train_1 = pd.get_dummies(data_train[\"GRP_SERV_HIGIENICOS_MAX\"])\n",
    "data_train_2 = pd.get_dummies(data_train[\"STR_MACROZONALIMA\"])\n",
    "data_train_3 = pd.get_dummies(data_train[\"GRP_ENERGIA_MAX\"])\n",
    "data_train_4 = pd.get_dummies(data_train[\"GRP_TIPO_VIVIENDA_MAX\"])\n",
    "\n",
    "data_train = pd.concat([data_train, data_train_1, data_train_2, data_train_3, data_train_4], axis = 1)\n",
    "data_train.head()"
   ]
  },
  {
   "cell_type": "code",
   "execution_count": 17,
   "metadata": {},
   "outputs": [],
   "source": [
    "#Seleccionando las columnas a eliminar, son columnas univalor o ID, además de STR_PROVINCIA porque dos provincias representan el 65% del universo\n",
    "cols_borrar2= ['STR_MACROZONALIMA','GRP_SERV_HIGIENICOS_MAX','GRP_ENERGIA_MAX','GRP_TIPO_VIVIENDA_MAX']\n",
    "data_train = data_train.drop(cols_borrar2,1)"
   ]
  },
  {
   "cell_type": "code",
   "execution_count": 18,
   "metadata": {},
   "outputs": [
    {
     "name": "stdout",
     "output_type": "stream",
     "text": [
      "Index(['MES_ID', 'FLG_EVENTO_SPT', 'FLG_EVENTO_SRE', 'IMP_INGRESOEST',\n",
      "       'NUM_EDAD', 'IMP_RENTABILIDAD_MED', 'IMP_OPEHAB_CVIS_MED',\n",
      "       'NUM_OPEHAB_CVIS_MED', 'NUM_OPEDEB_CVIS_MED', 'IMP_MED_CAH_MED',\n",
      "       ...\n",
      "       'energia_5', 'energia_8', 'tipoviv_01', 'tipoviv_02', 'tipoviv_03',\n",
      "       'tipoviv_04', 'tipoviv_06', 'tipoviv_07', 'tipoviv_08', 'tipoviv_09'],\n",
      "      dtype='object', length=106)\n"
     ]
    }
   ],
   "source": [
    "print(data_train.columns)"
   ]
  },
  {
   "cell_type": "code",
   "execution_count": 19,
   "metadata": {},
   "outputs": [
    {
     "data": {
      "text/html": [
       "<div>\n",
       "<style scoped>\n",
       "    .dataframe tbody tr th:only-of-type {\n",
       "        vertical-align: middle;\n",
       "    }\n",
       "\n",
       "    .dataframe tbody tr th {\n",
       "        vertical-align: top;\n",
       "    }\n",
       "\n",
       "    .dataframe thead th {\n",
       "        text-align: right;\n",
       "    }\n",
       "</style>\n",
       "<table border=\"1\" class=\"dataframe\">\n",
       "  <thead>\n",
       "    <tr style=\"text-align: right;\">\n",
       "      <th></th>\n",
       "      <th>MES_ID</th>\n",
       "      <th>FLG_EVENTO_SPT</th>\n",
       "      <th>FLG_EVENTO_SRE</th>\n",
       "      <th>IMP_INGRESOEST</th>\n",
       "      <th>NUM_EDAD</th>\n",
       "      <th>IMP_RENTABILIDAD_MED</th>\n",
       "      <th>IMP_OPEHAB_CVIS_MED</th>\n",
       "      <th>NUM_OPEHAB_CVIS_MED</th>\n",
       "      <th>NUM_OPEDEB_CVIS_MED</th>\n",
       "      <th>IMP_MED_CAH_MED</th>\n",
       "      <th>...</th>\n",
       "      <th>energia_5</th>\n",
       "      <th>energia_8</th>\n",
       "      <th>tipoviv_01</th>\n",
       "      <th>tipoviv_02</th>\n",
       "      <th>tipoviv_03</th>\n",
       "      <th>tipoviv_04</th>\n",
       "      <th>tipoviv_06</th>\n",
       "      <th>tipoviv_07</th>\n",
       "      <th>tipoviv_08</th>\n",
       "      <th>tipoviv_09</th>\n",
       "    </tr>\n",
       "  </thead>\n",
       "  <tbody>\n",
       "    <tr>\n",
       "      <td>0</td>\n",
       "      <td>201608</td>\n",
       "      <td>1</td>\n",
       "      <td>0</td>\n",
       "      <td>4778.94</td>\n",
       "      <td>43</td>\n",
       "      <td>24.056667</td>\n",
       "      <td>15494.808330</td>\n",
       "      <td>3.333333</td>\n",
       "      <td>11.833333</td>\n",
       "      <td>5558.913333</td>\n",
       "      <td>...</td>\n",
       "      <td>0</td>\n",
       "      <td>0</td>\n",
       "      <td>1</td>\n",
       "      <td>0</td>\n",
       "      <td>0</td>\n",
       "      <td>0</td>\n",
       "      <td>0</td>\n",
       "      <td>0</td>\n",
       "      <td>0</td>\n",
       "      <td>0</td>\n",
       "    </tr>\n",
       "    <tr>\n",
       "      <td>1</td>\n",
       "      <td>201608</td>\n",
       "      <td>0</td>\n",
       "      <td>0</td>\n",
       "      <td>7868.34</td>\n",
       "      <td>47</td>\n",
       "      <td>415.228333</td>\n",
       "      <td>12641.183330</td>\n",
       "      <td>3.000000</td>\n",
       "      <td>16.666667</td>\n",
       "      <td>0.000000</td>\n",
       "      <td>...</td>\n",
       "      <td>0</td>\n",
       "      <td>0</td>\n",
       "      <td>1</td>\n",
       "      <td>0</td>\n",
       "      <td>0</td>\n",
       "      <td>0</td>\n",
       "      <td>0</td>\n",
       "      <td>0</td>\n",
       "      <td>0</td>\n",
       "      <td>0</td>\n",
       "    </tr>\n",
       "    <tr>\n",
       "      <td>2</td>\n",
       "      <td>201608</td>\n",
       "      <td>0</td>\n",
       "      <td>0</td>\n",
       "      <td>12543.64</td>\n",
       "      <td>56</td>\n",
       "      <td>588.841667</td>\n",
       "      <td>10200.220000</td>\n",
       "      <td>2.166667</td>\n",
       "      <td>6.166667</td>\n",
       "      <td>0.000000</td>\n",
       "      <td>...</td>\n",
       "      <td>0</td>\n",
       "      <td>0</td>\n",
       "      <td>1</td>\n",
       "      <td>0</td>\n",
       "      <td>0</td>\n",
       "      <td>0</td>\n",
       "      <td>0</td>\n",
       "      <td>0</td>\n",
       "      <td>0</td>\n",
       "      <td>0</td>\n",
       "    </tr>\n",
       "    <tr>\n",
       "      <td>3</td>\n",
       "      <td>201608</td>\n",
       "      <td>0</td>\n",
       "      <td>0</td>\n",
       "      <td>2188.42</td>\n",
       "      <td>37</td>\n",
       "      <td>474.696667</td>\n",
       "      <td>2811.370000</td>\n",
       "      <td>2.500000</td>\n",
       "      <td>12.000000</td>\n",
       "      <td>115.311667</td>\n",
       "      <td>...</td>\n",
       "      <td>0</td>\n",
       "      <td>0</td>\n",
       "      <td>1</td>\n",
       "      <td>0</td>\n",
       "      <td>0</td>\n",
       "      <td>0</td>\n",
       "      <td>0</td>\n",
       "      <td>0</td>\n",
       "      <td>0</td>\n",
       "      <td>0</td>\n",
       "    </tr>\n",
       "    <tr>\n",
       "      <td>4</td>\n",
       "      <td>201608</td>\n",
       "      <td>0</td>\n",
       "      <td>0</td>\n",
       "      <td>1243.65</td>\n",
       "      <td>69</td>\n",
       "      <td>47.646667</td>\n",
       "      <td>710.921667</td>\n",
       "      <td>1.833333</td>\n",
       "      <td>4.000000</td>\n",
       "      <td>844.641667</td>\n",
       "      <td>...</td>\n",
       "      <td>0</td>\n",
       "      <td>0</td>\n",
       "      <td>0</td>\n",
       "      <td>1</td>\n",
       "      <td>0</td>\n",
       "      <td>0</td>\n",
       "      <td>0</td>\n",
       "      <td>0</td>\n",
       "      <td>0</td>\n",
       "      <td>0</td>\n",
       "    </tr>\n",
       "  </tbody>\n",
       "</table>\n",
       "<p>5 rows × 106 columns</p>\n",
       "</div>"
      ],
      "text/plain": [
       "   MES_ID  FLG_EVENTO_SPT  FLG_EVENTO_SRE  IMP_INGRESOEST  NUM_EDAD  \\\n",
       "0  201608               1               0         4778.94        43   \n",
       "1  201608               0               0         7868.34        47   \n",
       "2  201608               0               0        12543.64        56   \n",
       "3  201608               0               0         2188.42        37   \n",
       "4  201608               0               0         1243.65        69   \n",
       "\n",
       "   IMP_RENTABILIDAD_MED  IMP_OPEHAB_CVIS_MED  NUM_OPEHAB_CVIS_MED  \\\n",
       "0             24.056667         15494.808330             3.333333   \n",
       "1            415.228333         12641.183330             3.000000   \n",
       "2            588.841667         10200.220000             2.166667   \n",
       "3            474.696667          2811.370000             2.500000   \n",
       "4             47.646667           710.921667             1.833333   \n",
       "\n",
       "   NUM_OPEDEB_CVIS_MED  IMP_MED_CAH_MED  ...  energia_5  energia_8  \\\n",
       "0            11.833333      5558.913333  ...          0          0   \n",
       "1            16.666667         0.000000  ...          0          0   \n",
       "2             6.166667         0.000000  ...          0          0   \n",
       "3            12.000000       115.311667  ...          0          0   \n",
       "4             4.000000       844.641667  ...          0          0   \n",
       "\n",
       "   tipoviv_01  tipoviv_02  tipoviv_03  tipoviv_04  tipoviv_06  tipoviv_07  \\\n",
       "0           1           0           0           0           0           0   \n",
       "1           1           0           0           0           0           0   \n",
       "2           1           0           0           0           0           0   \n",
       "3           1           0           0           0           0           0   \n",
       "4           0           1           0           0           0           0   \n",
       "\n",
       "   tipoviv_08  tipoviv_09  \n",
       "0           0           0  \n",
       "1           0           0  \n",
       "2           0           0  \n",
       "3           0           0  \n",
       "4           0           0  \n",
       "\n",
       "[5 rows x 106 columns]"
      ]
     },
     "execution_count": 19,
     "metadata": {},
     "output_type": "execute_result"
    }
   ],
   "source": [
    "data_train.head()"
   ]
  },
  {
   "cell_type": "code",
   "execution_count": 89,
   "metadata": {},
   "outputs": [],
   "source": [
    "Y = data_train.FLG_EVENTO_SPT\n",
    "X = data_train.drop(['FLG_EVENTO_SPT','FLG_EVENTO_SRE'],1)"
   ]
  },
  {
   "cell_type": "code",
   "execution_count": 90,
   "metadata": {},
   "outputs": [],
   "source": [
    "#Llamo la librería para partir la base en train y test (80 y 20 respectivamente)\n",
    "from sklearn.model_selection import train_test_split"
   ]
  },
  {
   "cell_type": "code",
   "execution_count": 91,
   "metadata": {},
   "outputs": [],
   "source": [
    "#SPT_TRAIN, SPT_TEST = train_test_split(data_train, train_size = 0.8, random_state= 10)\n",
    "\n",
    "X_train, X_test, Y_train, Y_test = train_test_split(X,Y, test_size=0.20, random_state=10)"
   ]
  },
  {
   "cell_type": "code",
   "execution_count": 92,
   "metadata": {},
   "outputs": [
    {
     "data": {
      "text/plain": [
       "(166778, 104)"
      ]
     },
     "execution_count": 92,
     "metadata": {},
     "output_type": "execute_result"
    }
   ],
   "source": [
    "X_train.shape"
   ]
  },
  {
   "cell_type": "code",
   "execution_count": 103,
   "metadata": {},
   "outputs": [
    {
     "data": {
      "text/plain": [
       "(41695, 104)"
      ]
     },
     "execution_count": 103,
     "metadata": {},
     "output_type": "execute_result"
    }
   ],
   "source": [
    "X_test.shape"
   ]
  },
  {
   "cell_type": "code",
   "execution_count": 94,
   "metadata": {},
   "outputs": [
    {
     "data": {
      "text/plain": [
       "(166778,)"
      ]
     },
     "execution_count": 94,
     "metadata": {},
     "output_type": "execute_result"
    }
   ],
   "source": [
    "Y_train.shape"
   ]
  },
  {
   "cell_type": "code",
   "execution_count": 95,
   "metadata": {},
   "outputs": [
    {
     "data": {
      "text/plain": [
       "(41695,)"
      ]
     },
     "execution_count": 95,
     "metadata": {},
     "output_type": "execute_result"
    }
   ],
   "source": [
    "Y_valid.shape"
   ]
  },
  {
   "cell_type": "code",
   "execution_count": 99,
   "metadata": {},
   "outputs": [],
   "source": [
    "#!pip install imblearn\n",
    "#from imblearn.over_sampling import SMOTE"
   ]
  },
  {
   "cell_type": "code",
   "execution_count": 135,
   "metadata": {},
   "outputs": [],
   "source": [
    "smote = SMOTE('minority')"
   ]
  },
  {
   "cell_type": "code",
   "execution_count": 136,
   "metadata": {
    "scrolled": true
   },
   "outputs": [],
   "source": [
    "X_train_sm, Y_train_sm = smote.fit_sample(X_train, Y_train)"
   ]
  },
  {
   "cell_type": "code",
   "execution_count": 137,
   "metadata": {},
   "outputs": [
    {
     "name": "stdout",
     "output_type": "stream",
     "text": [
      "(309276, 104)\n",
      "(309276,)\n"
     ]
    }
   ],
   "source": [
    "print(X_train_sm.shape)\n",
    "print(Y_train_sm.shape)"
   ]
  },
  {
   "cell_type": "code",
   "execution_count": 138,
   "metadata": {},
   "outputs": [],
   "source": [
    "X_test_sm, Y_test_sm = smote.fit_sample(X_test, Y_test)"
   ]
  },
  {
   "cell_type": "code",
   "execution_count": 139,
   "metadata": {},
   "outputs": [
    {
     "name": "stdout",
     "output_type": "stream",
     "text": [
      "(77284, 104)\n",
      "(77284,)\n"
     ]
    }
   ],
   "source": [
    "print(X_test_sm.shape)\n",
    "print(Y_test_sm.shape)"
   ]
  },
  {
   "cell_type": "code",
   "execution_count": 122,
   "metadata": {},
   "outputs": [],
   "source": [
    "from sklearn.tree import DecisionTreeClassifier"
   ]
  },
  {
   "cell_type": "code",
   "execution_count": 140,
   "metadata": {},
   "outputs": [],
   "source": [
    "Y_train_log = Y_train_sm"
   ]
  },
  {
   "cell_type": "code",
   "execution_count": 159,
   "metadata": {},
   "outputs": [
    {
     "data": {
      "text/plain": [
       "DecisionTreeClassifier(class_weight=None, criterion='gini', max_depth=6,\n",
       "                       max_features=None, max_leaf_nodes=None,\n",
       "                       min_impurity_decrease=0.0, min_impurity_split=None,\n",
       "                       min_samples_leaf=1, min_samples_split=2,\n",
       "                       min_weight_fraction_leaf=0.0, presort=False,\n",
       "                       random_state=None, splitter='best')"
      ]
     },
     "execution_count": 159,
     "metadata": {},
     "output_type": "execute_result"
    }
   ],
   "source": [
    "#Generamos un árbol por default para evaluar su comportamiento\n",
    "clf = DecisionTreeClassifier(criterion=\"gini\", max_depth =6)\n",
    "clf.fit(X_train_sm, Y_train_sm) #Dataset, target"
   ]
  },
  {
   "cell_type": "code",
   "execution_count": 160,
   "metadata": {},
   "outputs": [],
   "source": [
    "Y_test_pred = clf.predict_proba(X_test_sm)[:,1]\n",
    "Y_test_log = Y_test_sm\n",
    "\n",
    "from sklearn.metrics import roc_curve, auc\n",
    "\n",
    "fpr, tpr, thresholds = roc_curve(Y_test_log, Y_test_pred)\n",
    "roc_auc = auc(fpr, tpr)"
   ]
  },
  {
   "cell_type": "code",
   "execution_count": 161,
   "metadata": {},
   "outputs": [
    {
     "data": {
      "text/plain": [
       "0.8895553515212404"
      ]
     },
     "execution_count": 161,
     "metadata": {},
     "output_type": "execute_result"
    }
   ],
   "source": [
    "roc_auc"
   ]
  },
  {
   "cell_type": "code",
   "execution_count": 162,
   "metadata": {},
   "outputs": [
    {
     "data": {
      "text/plain": [
       "0.8169242945712264"
      ]
     },
     "execution_count": 162,
     "metadata": {},
     "output_type": "execute_result"
    }
   ],
   "source": [
    "#accuracy\n",
    "clf.score(X_train, Y_train)"
   ]
  },
  {
   "cell_type": "code",
   "execution_count": 163,
   "metadata": {},
   "outputs": [],
   "source": [
    "y_pred_clf1 = clf.predict(X_test_sm)"
   ]
  },
  {
   "cell_type": "code",
   "execution_count": 167,
   "metadata": {
    "scrolled": true
   },
   "outputs": [
    {
     "data": {
      "text/html": [
       "<div>\n",
       "<style scoped>\n",
       "    .dataframe tbody tr th:only-of-type {\n",
       "        vertical-align: middle;\n",
       "    }\n",
       "\n",
       "    .dataframe tbody tr th {\n",
       "        vertical-align: top;\n",
       "    }\n",
       "\n",
       "    .dataframe thead th {\n",
       "        text-align: right;\n",
       "    }\n",
       "</style>\n",
       "<table border=\"1\" class=\"dataframe\">\n",
       "  <thead>\n",
       "    <tr style=\"text-align: right;\">\n",
       "      <th>Predicho</th>\n",
       "      <th>0</th>\n",
       "      <th>1</th>\n",
       "    </tr>\n",
       "    <tr>\n",
       "      <th>Real</th>\n",
       "      <th></th>\n",
       "      <th></th>\n",
       "    </tr>\n",
       "  </thead>\n",
       "  <tbody>\n",
       "    <tr>\n",
       "      <td>0</td>\n",
       "      <td>33473</td>\n",
       "      <td>5169</td>\n",
       "    </tr>\n",
       "    <tr>\n",
       "      <td>1</td>\n",
       "      <td>8971</td>\n",
       "      <td>29671</td>\n",
       "    </tr>\n",
       "  </tbody>\n",
       "</table>\n",
       "</div>"
      ],
      "text/plain": [
       "Predicho      0      1\n",
       "Real                  \n",
       "0         33473   5169\n",
       "1          8971  29671"
      ]
     },
     "execution_count": 167,
     "metadata": {},
     "output_type": "execute_result"
    }
   ],
   "source": [
    "#Matriz de confusión\n",
    "pd.crosstab(Y_test_log, y_pred_clf1\n",
    "                  ,rownames = ['Real']\n",
    "                  ,colnames = ['Predicho'])"
   ]
  },
  {
   "cell_type": "code",
   "execution_count": 170,
   "metadata": {},
   "outputs": [
    {
     "name": "stdout",
     "output_type": "stream",
     "text": [
      "El AUC de test es 0.8895553515212404\n",
      "El Gini de test es 0.7791107030424809\n"
     ]
    }
   ],
   "source": [
    "from sklearn import metrics\n",
    "\n",
    "#Obtenemos el AUC y el Gini\n",
    "fpr, tpr, thresholds = metrics.roc_curve(Y_test_sm, Y_test_pred)\n",
    "auc_mod_test = metrics.auc(fpr, tpr)\n",
    "\n",
    "print(\"El AUC de test es \"+str(auc_mod_test))\n",
    "print(\"El Gini de test es \"+str(2.*auc_mod_test-1))\n",
    "\n",
    "\n",
    "#Valor AUC\tReferencia\n",
    "#0.5-0.7\tAceptable\n",
    "#0.7-0.9\tBueno\n",
    "#Más de 0.9\tRevisar, no es común llegar a este valor"
   ]
  },
  {
   "cell_type": "code",
   "execution_count": 148,
   "metadata": {},
   "outputs": [],
   "source": [
    "#Gráfico AUC vs Cantidad de nodos\n",
    "\n",
    "import matplotlib.pyplot as plt \n",
    "\n",
    "train_prec =  []\n",
    "eval_prec = []\n",
    "max_deep_list = list(range(1, 23))\n",
    "\n",
    "for deep in max_deep_list:\n",
    "    arbol3 = DecisionTreeClassifier(criterion='gini', max_depth=deep)\n",
    "    arbol3.fit(X_train_sm, Y_train_sm)\n",
    "    \n",
    "    Y_train_pred = arbol3.predict_proba(X_train_sm)[:,1]\n",
    "    #Y_train_log = Y_train.FLG_EVENTO_SPT\n",
    "    \n",
    "    Y_test_pred = arbol3.predict_proba(X_test_sm)[:,1]\n",
    "    #Y_test_log = Y_test.FLG_EVENTO_SPT\n",
    "    \n",
    "    fpr, tpr, thresholds = roc_curve(Y_test_sm, Y_test_pred)\n",
    "    eval_prec.append(auc(fpr, tpr))\n",
    "    \n",
    "    fpr2, tpr2, thresholds2 = roc_curve(Y_train_sm, Y_train_pred)\n",
    "    train_prec.append(auc(fpr2, tpr2))\n",
    "    \n",
    "    \n",
    "    \n",
    "   # train_prec.append(arbol3.score(X_train, Y_train))\n",
    "    #eval_prec.append(arbol3.score(X_test, Y_test))"
   ]
  },
  {
   "cell_type": "code",
   "execution_count": 149,
   "metadata": {},
   "outputs": [
    {
     "data": {
      "image/png": "[encoded data removed]",
      "text/plain": [
       "<Figure size 432x288 with 1 Axes>"
      ]
     },
     "metadata": {
      "needs_background": "light"
     },
     "output_type": "display_data"
    }
   ],
   "source": [
    "# graficar los resultados.\n",
    "plt.plot(max_deep_list, train_prec, color='r', label='entrenamiento')\n",
    "plt.plot(max_deep_list, eval_prec, color='b', label='evaluacion')\n",
    "plt.title('Grafico de ajuste arbol de decision')\n",
    "plt.legend()\n",
    "plt.ylabel('AUC')\n",
    "plt.xlabel('cant de nodos')\n",
    "plt.show()"
   ]
  },
  {
   "cell_type": "markdown",
   "metadata": {},
   "source": [
    "Se realiza una regresión logística"
   ]
  },
  {
   "cell_type": "code",
   "execution_count": 171,
   "metadata": {},
   "outputs": [],
   "source": [
    "from sklearn.linear_model import LogisticRegression\n",
    "logreg = LogisticRegression(solver='liblinear',C=1e9)"
   ]
  },
  {
   "cell_type": "code",
   "execution_count": 173,
   "metadata": {},
   "outputs": [
    {
     "name": "stderr",
     "output_type": "stream",
     "text": [
      "C:\\Users\\FREDDY\\Anaconda3\\lib\\site-packages\\sklearn\\svm\\base.py:929: ConvergenceWarning: Liblinear failed to converge, increase the number of iterations.\n",
      "  \"the number of iterations.\", ConvergenceWarning)\n"
     ]
    },
    {
     "data": {
      "text/plain": [
       "LogisticRegression(C=1000000000.0, class_weight=None, dual=False,\n",
       "                   fit_intercept=True, intercept_scaling=1, l1_ratio=None,\n",
       "                   max_iter=100, multi_class='warn', n_jobs=None, penalty='l2',\n",
       "                   random_state=None, solver='liblinear', tol=0.0001, verbose=0,\n",
       "                   warm_start=False)"
      ]
     },
     "execution_count": 173,
     "metadata": {},
     "output_type": "execute_result"
    }
   ],
   "source": [
    "logreg.fit(X_train_sm, Y_train_sm)"
   ]
  },
  {
   "cell_type": "code",
   "execution_count": 174,
   "metadata": {},
   "outputs": [],
   "source": [
    "y_pred_clf2 = logreg.predict(X_test_sm)"
   ]
  },
  {
   "cell_type": "code",
   "execution_count": 176,
   "metadata": {},
   "outputs": [
    {
     "data": {
      "text/html": [
       "<div>\n",
       "<style scoped>\n",
       "    .dataframe tbody tr th:only-of-type {\n",
       "        vertical-align: middle;\n",
       "    }\n",
       "\n",
       "    .dataframe tbody tr th {\n",
       "        vertical-align: top;\n",
       "    }\n",
       "\n",
       "    .dataframe thead th {\n",
       "        text-align: right;\n",
       "    }\n",
       "</style>\n",
       "<table border=\"1\" class=\"dataframe\">\n",
       "  <thead>\n",
       "    <tr style=\"text-align: right;\">\n",
       "      <th>Predicho</th>\n",
       "      <th>0</th>\n",
       "      <th>1</th>\n",
       "    </tr>\n",
       "    <tr>\n",
       "      <th>Real</th>\n",
       "      <th></th>\n",
       "      <th></th>\n",
       "    </tr>\n",
       "  </thead>\n",
       "  <tbody>\n",
       "    <tr>\n",
       "      <td>0</td>\n",
       "      <td>26404</td>\n",
       "      <td>12238</td>\n",
       "    </tr>\n",
       "    <tr>\n",
       "      <td>1</td>\n",
       "      <td>21774</td>\n",
       "      <td>16868</td>\n",
       "    </tr>\n",
       "  </tbody>\n",
       "</table>\n",
       "</div>"
      ],
      "text/plain": [
       "Predicho      0      1\n",
       "Real                  \n",
       "0         26404  12238\n",
       "1         21774  16868"
      ]
     },
     "execution_count": 176,
     "metadata": {},
     "output_type": "execute_result"
    }
   ],
   "source": [
    "pd.crosstab(Y_test_sm,y_pred_clf2\n",
    "                  ,rownames = ['Real']\n",
    "                  ,colnames = ['Predicho'])"
   ]
  },
  {
   "cell_type": "code",
   "execution_count": null,
   "metadata": {},
   "outputs": [],
   "source": [
    "############################################################################################################################################################\n",
    "#EVALUACION"
   ]
  },
  {
   "cell_type": "code",
   "execution_count": null,
   "metadata": {},
   "outputs": [],
   "source": [
    "#Creo una dataframe, juntando las variables X con la variable real Y\n",
    "#ordenado = X_test.merge(pd.DataFrame(Y_test), left_index=True , right_index=True)\n",
    "\n",
    "# Pego al DF la predicción, así como algunas variables que necesitaré después\n",
    "#ordenado = ordenado.merge(pd.DataFrame(Y_test_pred), left_index=True , right_index=True)\n",
    "\n",
    "#print(ordenado.shape)"
   ]
  },
  {
   "cell_type": "code",
   "execution_count": null,
   "metadata": {},
   "outputs": [],
   "source": [
    "#ordenado.head()"
   ]
  },
  {
   "cell_type": "code",
   "execution_count": null,
   "metadata": {},
   "outputs": [],
   "source": [
    "#Luego procedo a ordenar por probabilidad\n",
    "#ordenado = ordenado.sort_values(by=['Y_test_pred'], ascending=False)"
   ]
  },
  {
   "cell_type": "code",
   "execution_count": null,
   "metadata": {},
   "outputs": [],
   "source": [
    "## Para crear los quintiles, vamos a usar un camino auxiliar, para que cada quintil tenga exactamente la misma cantidad\n",
    "## de observaciones. Esto puede suceder si hay empates en probabilidades.\n",
    "\n",
    "#Creo columna con un orden establecido \"aleatorio\"\n",
    "#ordenado.insert(0, 'orden', range(1, 1 + len(ordenado)))\n",
    "\n",
    "#Creo el quintil basado en la variable auxiliar orden \n",
    "#ordenado['quintil'] = pd.qcut(ordenado['orden'], 5, labels=False)\n",
    "#ordenado.head()"
   ]
  },
  {
   "cell_type": "code",
   "execution_count": null,
   "metadata": {},
   "outputs": [],
   "source": [
    "#ordenado =  ordenado.fillna(0)\n",
    "\n",
    "#cols_interes= ['Y_test_pred','quintil']\n",
    "\n",
    "#ordenado[cols_interes].groupby('quintil').agg(['mean', 'count', 'sum'])"
   ]
  },
  {
   "cell_type": "code",
   "execution_count": null,
   "metadata": {},
   "outputs": [],
   "source": [
    "#ordenado[cols_interes].agg(['mean', 'count', 'sum'])"
   ]
  },
  {
   "cell_type": "code",
   "execution_count": null,
   "metadata": {},
   "outputs": [],
   "source": [
    "#c1= ordenado[cols_interes].agg(['mean', 'count', 'sum'])\n",
    "#c1.to_csv(\"output_SPT_QUINTILES.csv\")\n",
    "\n",
    "#exportemos este resultado:\n",
    "#to_exp = ordenado[cols_interes].groupby('quintil').agg(['mean', 'count', 'sum'])\n",
    "#to_exp.to_csv(\"output_SPT_QUINTILES.csv\")"
   ]
  },
  {
   "cell_type": "code",
   "execution_count": null,
   "metadata": {},
   "outputs": [],
   "source": []
  }
 ],
 "metadata": {
  "kernelspec": {
   "display_name": "Python 3",
   "language": "python",
   "name": "python3"
  },
  "language_info": {
   "codemirror_mode": {
    "name": "ipython",
    "version": 3
   },
   "file_extension": ".py",
   "mimetype": "text/x-python",
   "name": "python",
   "nbconvert_exporter": "python",
   "pygments_lexer": "ipython3",
   "version": "3.7.4"
  }
 },
 "nbformat": 4,
 "nbformat_minor": 1
}
